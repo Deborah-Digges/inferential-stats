{
  "cells": [
    {
      "metadata": {
        "_uuid": "8f2839f25d086af736a60e9eeb907d3b93b6e0e5",
        "collapsed": true,
        "_cell_guid": "b1076dfc-b9ad-4769-8c92-a6c4dae69d19",
        "trusted": false
      },
      "cell_type": "code",
      "source": "import matplotlib.pyplot as plt\nimport numpy as np # linear algebra\nimport pandas as pd # data processing, CSV file I/O (e.g. pd.read_csv)\nimport pylab\nimport seaborn as sns\n\n\nplt.style.use('fivethirtyeight')\n%matplotlib inline\npylab.rcParams['figure.figsize'] = (15.0, 8.0)",
      "execution_count": null,
      "outputs": []
    },
    {
      "metadata": {
        "_uuid": "d629ff2d2480ee46fbb7e2d37f6b5fab8052498a",
        "collapsed": true,
        "_cell_guid": "79c7e3d0-c299-4dcb-8224-4455121ee9b0",
        "trusted": false
      },
      "cell_type": "code",
      "source": "loans_df = pd.read_csv(\"../input/kiva_loans.csv\")",
      "execution_count": null,
      "outputs": []
    },
    {
      "metadata": {
        "_uuid": "b86cb60ab39671e46cd6791345ab45f5e4778ba8",
        "_cell_guid": "e0f776b5-e54f-4db9-9e63-178d8bb52692",
        "trusted": false,
        "collapsed": true
      },
      "cell_type": "code",
      "source": "loans_df.head()",
      "execution_count": null,
      "outputs": []
    },
    {
      "metadata": {
        "_uuid": "815fdda0ba379c3e93379d8c37f55c37f7727ce4",
        "_cell_guid": "dd4496b5-e8b7-4005-8eab-e7f0b235582d"
      },
      "cell_type": "markdown",
      "source": "## Number of loans by country\n- Since Kiva extends services to financially excluded people around the globe, it makes sense that the countries where the most loans are given out are developing nations like the Phillipines and Kenya"
    },
    {
      "metadata": {
        "_uuid": "3d842807c30a79e7a417030502e0066c4dcec02b",
        "_cell_guid": "db2c474e-be37-4307-b51d-3aaeffbe8afb",
        "trusted": false,
        "collapsed": true
      },
      "cell_type": "code",
      "source": "loans_df.groupby(loans_df.country).id.count().sort_values().plot.bar();\nplt.title(\"Loan Count by Country\");",
      "execution_count": null,
      "outputs": []
    },
    {
      "metadata": {
        "_uuid": "ae99b6991be560196f2a1e00c29b12add1500aeb",
        "_cell_guid": "57a4f03f-4dee-460f-bc86-d41f725f9423"
      },
      "cell_type": "markdown",
      "source": "## Most popular sectors in which loans are taken\n- Agriculture, food and retail are the most popular sectors in which loans are taken"
    },
    {
      "metadata": {
        "_uuid": "61fe6087adfa505396c2899e9dd1c1a1d691042c",
        "_cell_guid": "420d8610-6a9e-4e8f-8094-24506b10806c",
        "trusted": false,
        "collapsed": true
      },
      "cell_type": "code",
      "source": "loans_df.groupby(loans_df.sector).id.count().sort_values().plot.bar();\nplt.title(\"Loan Count by Sector\");",
      "execution_count": null,
      "outputs": []
    },
    {
      "metadata": {
        "_uuid": "af25bec4a2c721a6e2312f34f5469d030c506e40",
        "_cell_guid": "157f196c-3463-42d5-8979-7aeccba758e5"
      },
      "cell_type": "markdown",
      "source": "## Distribution of Loan duration\nMost loans are short term loans of less than 24 months(two years"
    },
    {
      "metadata": {
        "_uuid": "5c1a9d63ef229b84a9388f60bedec3cb54668197",
        "_cell_guid": "e0c4efcb-87a1-45c4-b9c2-b4f535e8c384",
        "trusted": false,
        "collapsed": true
      },
      "cell_type": "code",
      "source": "pylab.rcParams['figure.figsize'] = (8.0, 8.0)\nloans_df.term_in_months.plot.hist(bins=100);\nplt.title(\"Loan Count by Loan Duration\");",
      "execution_count": null,
      "outputs": []
    },
    {
      "metadata": {
        "_uuid": "a7500d5c6ad4c21c8abd06daa77dc7b7536f1dbe",
        "collapsed": true,
        "_cell_guid": "dbe5ebdd-0f41-429a-acdb-90d11ffc8acc"
      },
      "cell_type": "markdown",
      "source": "## Distribution of number of lenders\n- Most loans have between 1 to 150 lenders with some outliers having large numbers of lenders with the maximum number of lenders being 2986"
    },
    {
      "metadata": {
        "_uuid": "7e12690c675d712d4c651097817fe407729efccf",
        "_cell_guid": "a2728e0a-cfdb-4ab0-a9b3-8a8948f4c6fb",
        "trusted": false,
        "collapsed": true
      },
      "cell_type": "code",
      "source": "loans_df.lender_count.plot.box();\nplt.title(\"Distribution of Number of Lenders per loan\");",
      "execution_count": null,
      "outputs": []
    },
    {
      "metadata": {
        "_uuid": "f88a4bbc6f47471b9f8430da886b8a91e5ab3a6d",
        "_cell_guid": "e6a59e73-73e6-4548-9bd7-2a0df437adbd",
        "trusted": false,
        "collapsed": true
      },
      "cell_type": "code",
      "source": "axes = plt.gca()\naxes.set_xlim([0,500])\nloans_df.lender_count.plot.hist(bins=1000);\nplt.title(\"Distribution of Number of Lenders where number < 500\");",
      "execution_count": null,
      "outputs": []
    },
    {
      "metadata": {
        "_uuid": "4c8d5a6057243746c215b44f921dde2c7d78239d",
        "_cell_guid": "0981714a-2acb-4d0e-a153-a91b68018978",
        "trusted": false,
        "collapsed": true
      },
      "cell_type": "code",
      "source": "max(loans_df.lender_count)",
      "execution_count": null,
      "outputs": []
    },
    {
      "metadata": {
        "_uuid": "d8f0f78086349f05a583c33323fa477a43a55cc6",
        "_cell_guid": "3798cad1-afaa-4a49-af61-6148303d7f3f"
      },
      "cell_type": "markdown",
      "source": "## Gender of borrowers\n- Female only borrowers(single or group) are significantly more than male only borrowers and mixed groups"
    },
    {
      "metadata": {
        "_uuid": "fa9eb358b855e93898d90910a1acda4ca03fc302",
        "collapsed": true,
        "_cell_guid": "5087fdbf-b9ad-4ef3-9f5f-8976741f40fc",
        "trusted": false
      },
      "cell_type": "code",
      "source": "def process_gender(x):\n    \n    if type(x) is float and np.isnan(x):\n        return \"nan\"\n    genders = x.split(\",\")\n    male_count = sum(g.strip() == 'male' for g in genders)\n    female_count = sum(g.strip() == 'female' for g in genders)\n    \n    if(male_count > 0 and female_count > 0):\n        return \"MF\"\n    elif(female_count > 0):\n        return \"F\"\n    elif (male_count > 0):\n        return \"M\"",
      "execution_count": null,
      "outputs": []
    },
    {
      "metadata": {
        "_uuid": "1db96e26ca2f307f9cccb11769740fd2ee2e17c2",
        "scrolled": false,
        "collapsed": true,
        "_kg_hide-output": true,
        "_cell_guid": "47d0c62a-7036-4aa1-9a3a-58f9a2252172",
        "trusted": false
      },
      "cell_type": "code",
      "source": "loans_df.borrower_genders = loans_df.borrower_genders.apply(process_gender)",
      "execution_count": null,
      "outputs": []
    },
    {
      "metadata": {
        "_uuid": "2ac2680255d8825d05349434fdbfd2dcfe106fce",
        "_cell_guid": "0d222d63-7af6-4f89-a1a2-807c17c6bedd",
        "trusted": false,
        "collapsed": true
      },
      "cell_type": "code",
      "source": "loans_df.borrower_genders.value_counts().plot.bar();\nplt.title(\"Loan Count by Gender of Borrower\");",
      "execution_count": null,
      "outputs": []
    },
    {
      "metadata": {
        "_uuid": "548c77aef684c87b905b0f8e6452ce8cd27c23cf",
        "collapsed": true,
        "_cell_guid": "ef90ac88-2361-4cb8-81ea-73d9575ee13f"
      },
      "cell_type": "markdown",
      "source": "## Distribution of Loan Amount\n- We will consider the funded_amount variable as this is the amount which is disbursed to the borrower by the field agent\n- As all amounts are in USD, no currency conversion is required\n- Most of the values are below $2000, with 8\\% of all loans lying above this value"
    },
    {
      "metadata": {
        "_uuid": "e209fcb496b074bba8c9828b9fa7fbc587d43521",
        "_cell_guid": "55fbcc03-82d1-4121-a28f-8ae68e9d8dfc",
        "trusted": false,
        "collapsed": true
      },
      "cell_type": "code",
      "source": "loans_df.funded_amount.plot.box();\nplt.title(\"Distribution of Loan Funded Amount\");",
      "execution_count": null,
      "outputs": []
    },
    {
      "metadata": {
        "_uuid": "21afa25eb3ba49b96f5928a1f2d121b4ab002eaf",
        "_cell_guid": "4f5edb12-8277-4906-8c7c-6c5e1c12eacf",
        "trusted": false,
        "collapsed": true
      },
      "cell_type": "code",
      "source": "# Q3 + 1.5 * IQR\nIQR = loans_df.funded_amount.quantile(0.75) - loans_df.funded_amount.quantile(0.25)\nupper_whisker = loans_df.funded_amount.quantile(0.75) + 1.5 * IQR\nloans_above_upper_whisker = loans_df[loans_df.funded_amount > upper_whisker]\nloans_above_upper_whisker.shape",
      "execution_count": null,
      "outputs": []
    },
    {
      "metadata": {
        "_uuid": "f987db653a43589038ea5eb524bcfccbe84c7433",
        "_cell_guid": "45021546-db79-4024-85c2-e915a6433623",
        "trusted": false,
        "collapsed": true
      },
      "cell_type": "code",
      "source": "# percentage of loans above upper whisker\nloans_above_upper_whisker.shape[0]/loans_df.shape[0]",
      "execution_count": null,
      "outputs": []
    },
    {
      "metadata": {
        "_uuid": "aee14c2bc1770c99c8eb5886c7405479ff98eadd",
        "_cell_guid": "bc572d59-63bc-46e2-a440-fb4be158613a"
      },
      "cell_type": "markdown",
      "source": "### Analysis of loan amount below $2000\n- The distribution is skewed to the right with higher loan amounts being less common"
    },
    {
      "metadata": {
        "_uuid": "0c82072f872062ee073b7e236dddd34bb766e879",
        "collapsed": true,
        "_cell_guid": "ce7b06ba-c265-47df-89be-5c8375980658",
        "trusted": false
      },
      "cell_type": "code",
      "source": "loans_below_upper_whisker = loans_df[loans_df.funded_amount < upper_whisker]",
      "execution_count": null,
      "outputs": []
    },
    {
      "metadata": {
        "_uuid": "5d1561c1dedf81ac1542a7ce204a4be3d3fac1f2",
        "_cell_guid": "06394b14-3773-488d-9108-67922b4ebfc8",
        "trusted": false,
        "collapsed": true
      },
      "cell_type": "code",
      "source": "loans_below_upper_whisker.funded_amount.plot.hist();\nplt.title(\"Distribution of Loan Funded amount < $2000\");",
      "execution_count": null,
      "outputs": []
    },
    {
      "metadata": {
        "_uuid": "37bcb45904c290bd67321628cad045552c4af749",
        "_cell_guid": "1ce6e81c-13ef-4975-a84a-cf565fd9ddf6"
      },
      "cell_type": "markdown",
      "source": "### Analysis of loan amount  \\$2,000 - \\$20,000\n- Most of the outliers lie in this range"
    },
    {
      "metadata": {
        "_uuid": "2faea0c35d28d58909d6b2ac61f62993ebf1a6c6",
        "_cell_guid": "0fcec242-61a5-4d5c-a9f6-5a0abea329ac",
        "trusted": false,
        "collapsed": true
      },
      "cell_type": "code",
      "source": "df = loans_above_upper_whisker[loans_above_upper_whisker.funded_amount < 20000]\ndf.funded_amount.plot.hist();\nplt.title(\"Distribution of Loan Funded Amount between \\$2,000 and \\$20,000\");\ndf.shape",
      "execution_count": null,
      "outputs": []
    },
    {
      "metadata": {
        "_uuid": "be898c828bb3db0abe52bc49f47984675972461a",
        "_cell_guid": "9bdd2a9c-9fdf-4c67-87fc-5af74ec48d36"
      },
      "cell_type": "markdown",
      "source": "## Analysis of loan amount \\$20,000 to \\$60,000\n- A few values lie in this range\n- Most of the high value loans are disbursed for Agriculture and Retail"
    },
    {
      "metadata": {
        "_uuid": "4f80daff9f18abb675d5af0693bb097136e97dca",
        "_cell_guid": "0c5e735a-f64f-4f8e-b68a-266fb091b094",
        "trusted": false,
        "collapsed": true
      },
      "cell_type": "code",
      "source": "df = loans_above_upper_whisker[(loans_above_upper_whisker.funded_amount > 20000) & (loans_above_upper_whisker.funded_amount < 60000)]\ndf.funded_amount.plot.hist()\nplt.title(\"Distribution of Loan Funded Amount between \\$20,000 and \\$60,000\");\ndf.shape",
      "execution_count": null,
      "outputs": []
    },
    {
      "metadata": {
        "_uuid": "2fd5d9c6061a9c6351e4e1e6f2505c75f99770d1",
        "_cell_guid": "1d8db2a4-4c30-4ef3-a9fa-6a696b1197f9",
        "trusted": false,
        "collapsed": true
      },
      "cell_type": "code",
      "source": "df.sector.value_counts().sort_values().plot.bar();\nplt.title(\"Loan Count by Sector for Loan Amount between \\$20,000 and \\$60,000\");",
      "execution_count": null,
      "outputs": []
    },
    {
      "metadata": {
        "_uuid": "61e8918795f392590a9d171dc3ecd6c1428dfd42",
        "_cell_guid": "493060cd-3101-4aba-aa7a-f4afa8c60212"
      },
      "cell_type": "markdown",
      "source": "### Loan amount above \\$60,000\n- There is only a single loan amount with a value of \\$100,000 in this range distributed for Agriculture in Haiti\n"
    },
    {
      "metadata": {
        "_uuid": "d21b3c9fe7a043f5b6c3402e80c69b4e8821d0a8",
        "_cell_guid": "54f7b52c-8a36-4961-8250-5d07247368bd",
        "trusted": false,
        "collapsed": true
      },
      "cell_type": "code",
      "source": "loans_df[loans_df.funded_amount > 60000]",
      "execution_count": null,
      "outputs": []
    },
    {
      "metadata": {
        "_uuid": "4045ca5eaa0d315936a6fc197b8006d764611e5a",
        "collapsed": true,
        "_cell_guid": "17c9f0f7-b091-4a03-8039-4ea4d93873bc",
        "trusted": false
      },
      "cell_type": "code",
      "source": "",
      "execution_count": null,
      "outputs": []
    }
  ],
  "metadata": {
    "language_info": {
      "mimetype": "text/x-python",
      "pygments_lexer": "ipython3",
      "nbconvert_exporter": "python",
      "name": "python",
      "version": "3.6.4",
      "file_extension": ".py",
      "codemirror_mode": {
        "name": "ipython",
        "version": 3
      }
    },
    "kernelspec": {
      "display_name": "Python 3",
      "language": "python",
      "name": "python3"
    }
  },
  "nbformat": 4,
  "nbformat_minor": 1
}