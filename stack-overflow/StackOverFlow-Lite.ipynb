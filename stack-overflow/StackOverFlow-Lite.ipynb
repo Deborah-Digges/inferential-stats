{
 "cells": [
  {
   "cell_type": "code",
   "execution_count": 100,
   "metadata": {
    "collapsed": false
   },
   "outputs": [],
   "source": [
    "import numpy as np\n",
    "import pandas as pd\n",
    "import matplotlib.pyplot as plt\n",
    "plt.style.use(\"fivethirtyeight\")\n",
    "import pylab\n",
    "pylab.rcParams['figure.figsize'] = (20.0, 16.0)\n",
    "%matplotlib inline"
   ]
  },
  {
   "cell_type": "code",
   "execution_count": 2,
   "metadata": {
    "collapsed": false
   },
   "outputs": [
    {
     "data": {
      "text/html": [
       "<div>\n",
       "<table border=\"1\" class=\"dataframe\">\n",
       "  <thead>\n",
       "    <tr style=\"text-align: right;\">\n",
       "      <th></th>\n",
       "      <th>Id</th>\n",
       "      <th>CreationDate</th>\n",
       "      <th>ClosedDate</th>\n",
       "      <th>DeletionDate</th>\n",
       "      <th>Score</th>\n",
       "      <th>OwnerUserId</th>\n",
       "      <th>AnswerCount</th>\n",
       "    </tr>\n",
       "  </thead>\n",
       "  <tbody>\n",
       "    <tr>\n",
       "      <th>0</th>\n",
       "      <td>1</td>\n",
       "      <td>2008-07-31 21:26:37</td>\n",
       "      <td>NaT</td>\n",
       "      <td>2011-03-28 00:53:47</td>\n",
       "      <td>1</td>\n",
       "      <td>NaN</td>\n",
       "      <td>0.0</td>\n",
       "    </tr>\n",
       "    <tr>\n",
       "      <th>1</th>\n",
       "      <td>4</td>\n",
       "      <td>2008-07-31 21:42:52</td>\n",
       "      <td>NaT</td>\n",
       "      <td>NaT</td>\n",
       "      <td>458</td>\n",
       "      <td>8.0</td>\n",
       "      <td>13.0</td>\n",
       "    </tr>\n",
       "    <tr>\n",
       "      <th>2</th>\n",
       "      <td>6</td>\n",
       "      <td>2008-07-31 22:08:08</td>\n",
       "      <td>NaT</td>\n",
       "      <td>NaT</td>\n",
       "      <td>207</td>\n",
       "      <td>9.0</td>\n",
       "      <td>5.0</td>\n",
       "    </tr>\n",
       "    <tr>\n",
       "      <th>3</th>\n",
       "      <td>8</td>\n",
       "      <td>2008-07-31 23:33:19</td>\n",
       "      <td>2013-06-03 04:00:25</td>\n",
       "      <td>2015-02-11 08:26:40</td>\n",
       "      <td>42</td>\n",
       "      <td>NaN</td>\n",
       "      <td>8.0</td>\n",
       "    </tr>\n",
       "    <tr>\n",
       "      <th>4</th>\n",
       "      <td>9</td>\n",
       "      <td>2008-07-31 23:40:59</td>\n",
       "      <td>NaT</td>\n",
       "      <td>NaT</td>\n",
       "      <td>1410</td>\n",
       "      <td>1.0</td>\n",
       "      <td>58.0</td>\n",
       "    </tr>\n",
       "  </tbody>\n",
       "</table>\n",
       "</div>"
      ],
      "text/plain": [
       "   Id        CreationDate          ClosedDate        DeletionDate  Score  \\\n",
       "0   1 2008-07-31 21:26:37                 NaT 2011-03-28 00:53:47      1   \n",
       "1   4 2008-07-31 21:42:52                 NaT                 NaT    458   \n",
       "2   6 2008-07-31 22:08:08                 NaT                 NaT    207   \n",
       "3   8 2008-07-31 23:33:19 2013-06-03 04:00:25 2015-02-11 08:26:40     42   \n",
       "4   9 2008-07-31 23:40:59                 NaT                 NaT   1410   \n",
       "\n",
       "   OwnerUserId  AnswerCount  \n",
       "0          NaN          0.0  \n",
       "1          8.0         13.0  \n",
       "2          9.0          5.0  \n",
       "3          NaN          8.0  \n",
       "4          1.0         58.0  "
      ]
     },
     "execution_count": 2,
     "metadata": {},
     "output_type": "execute_result"
    }
   ],
   "source": [
    "questions_pd = pd.read_csv(\"/Users/ddigges/Downloads/stacklite/questions.csv\", parse_dates=[\"ClosedDate\", \"CreationDate\", \"DeletionDate\"])\n",
    "questions_pd.head()"
   ]
  },
  {
   "cell_type": "code",
   "execution_count": 14,
   "metadata": {
    "collapsed": false
   },
   "outputs": [
    {
     "data": {
      "text/html": [
       "<div>\n",
       "<table border=\"1\" class=\"dataframe\">\n",
       "  <thead>\n",
       "    <tr style=\"text-align: right;\">\n",
       "      <th></th>\n",
       "      <th>Id</th>\n",
       "      <th>Tag</th>\n",
       "    </tr>\n",
       "  </thead>\n",
       "  <tbody>\n",
       "    <tr>\n",
       "      <th>0</th>\n",
       "      <td>1</td>\n",
       "      <td>data</td>\n",
       "    </tr>\n",
       "    <tr>\n",
       "      <th>1</th>\n",
       "      <td>4</td>\n",
       "      <td>c#</td>\n",
       "    </tr>\n",
       "    <tr>\n",
       "      <th>2</th>\n",
       "      <td>4</td>\n",
       "      <td>winforms</td>\n",
       "    </tr>\n",
       "    <tr>\n",
       "      <th>3</th>\n",
       "      <td>4</td>\n",
       "      <td>type-conversion</td>\n",
       "    </tr>\n",
       "    <tr>\n",
       "      <th>4</th>\n",
       "      <td>4</td>\n",
       "      <td>decimal</td>\n",
       "    </tr>\n",
       "  </tbody>\n",
       "</table>\n",
       "</div>"
      ],
      "text/plain": [
       "   Id              Tag\n",
       "0   1             data\n",
       "1   4               c#\n",
       "2   4         winforms\n",
       "3   4  type-conversion\n",
       "4   4          decimal"
      ]
     },
     "execution_count": 14,
     "metadata": {},
     "output_type": "execute_result"
    }
   ],
   "source": [
    "tags_pd = pd.read_csv(\"/Users/ddigges/Downloads/stacklite/question_tags.csv\")\n",
    "tags_pd.head()"
   ]
  },
  {
   "cell_type": "code",
   "execution_count": 4,
   "metadata": {
    "collapsed": false
   },
   "outputs": [
    {
     "data": {
      "text/plain": [
       "Id                       int64\n",
       "CreationDate    datetime64[ns]\n",
       "ClosedDate      datetime64[ns]\n",
       "DeletionDate    datetime64[ns]\n",
       "Score                    int64\n",
       "OwnerUserId            float64\n",
       "AnswerCount            float64\n",
       "dtype: object"
      ]
     },
     "execution_count": 4,
     "metadata": {},
     "output_type": "execute_result"
    }
   ],
   "source": [
    "questions_pd.dtypes"
   ]
  },
  {
   "cell_type": "code",
   "execution_count": 5,
   "metadata": {
    "collapsed": false
   },
   "outputs": [
    {
     "data": {
      "text/html": [
       "<div>\n",
       "<table border=\"1\" class=\"dataframe\">\n",
       "  <thead>\n",
       "    <tr style=\"text-align: right;\">\n",
       "      <th></th>\n",
       "      <th>Id</th>\n",
       "      <th>CreationDate</th>\n",
       "      <th>ClosedDate</th>\n",
       "      <th>DeletionDate</th>\n",
       "      <th>Score</th>\n",
       "      <th>OwnerUserId</th>\n",
       "      <th>AnswerCount</th>\n",
       "    </tr>\n",
       "  </thead>\n",
       "  <tbody>\n",
       "    <tr>\n",
       "      <th>3</th>\n",
       "      <td>8</td>\n",
       "      <td>2008-07-31 23:33:19</td>\n",
       "      <td>2013-06-03 04:00:25</td>\n",
       "      <td>2015-02-11 08:26:40</td>\n",
       "      <td>42</td>\n",
       "      <td>NaN</td>\n",
       "      <td>8.0</td>\n",
       "    </tr>\n",
       "    <tr>\n",
       "      <th>11</th>\n",
       "      <td>23</td>\n",
       "      <td>2008-08-01 12:09:41</td>\n",
       "      <td>2012-05-18 11:12:42</td>\n",
       "      <td>2012-12-13 18:04:53</td>\n",
       "      <td>25</td>\n",
       "      <td>NaN</td>\n",
       "      <td>8.0</td>\n",
       "    </tr>\n",
       "    <tr>\n",
       "      <th>27</th>\n",
       "      <td>85</td>\n",
       "      <td>2008-08-01 14:19:52</td>\n",
       "      <td>2015-10-22 13:43:51</td>\n",
       "      <td>NaT</td>\n",
       "      <td>83</td>\n",
       "      <td>59.0</td>\n",
       "      <td>12.0</td>\n",
       "    </tr>\n",
       "    <tr>\n",
       "      <th>29</th>\n",
       "      <td>90</td>\n",
       "      <td>2008-08-01 14:41:24</td>\n",
       "      <td>2012-12-26 03:45:49</td>\n",
       "      <td>NaT</td>\n",
       "      <td>146</td>\n",
       "      <td>58.0</td>\n",
       "      <td>3.0</td>\n",
       "    </tr>\n",
       "    <tr>\n",
       "      <th>31</th>\n",
       "      <td>108</td>\n",
       "      <td>2008-08-01 15:22:29</td>\n",
       "      <td>2012-08-15 19:45:13</td>\n",
       "      <td>NaT</td>\n",
       "      <td>34</td>\n",
       "      <td>72.0</td>\n",
       "      <td>8.0</td>\n",
       "    </tr>\n",
       "  </tbody>\n",
       "</table>\n",
       "</div>"
      ],
      "text/plain": [
       "     Id        CreationDate          ClosedDate        DeletionDate  Score  \\\n",
       "3     8 2008-07-31 23:33:19 2013-06-03 04:00:25 2015-02-11 08:26:40     42   \n",
       "11   23 2008-08-01 12:09:41 2012-05-18 11:12:42 2012-12-13 18:04:53     25   \n",
       "27   85 2008-08-01 14:19:52 2015-10-22 13:43:51                 NaT     83   \n",
       "29   90 2008-08-01 14:41:24 2012-12-26 03:45:49                 NaT    146   \n",
       "31  108 2008-08-01 15:22:29 2012-08-15 19:45:13                 NaT     34   \n",
       "\n",
       "    OwnerUserId  AnswerCount  \n",
       "3           NaN          8.0  \n",
       "11          NaN          8.0  \n",
       "27         59.0         12.0  \n",
       "29         58.0          3.0  \n",
       "31         72.0          8.0  "
      ]
     },
     "execution_count": 5,
     "metadata": {},
     "output_type": "execute_result"
    }
   ],
   "source": [
    "questions_pd = questions_pd[pd.notnull(questions_pd.ClosedDate)]\n",
    "questions_pd.head()"
   ]
  },
  {
   "cell_type": "code",
   "execution_count": 79,
   "metadata": {
    "collapsed": false
   },
   "outputs": [
    {
     "data": {
      "text/html": [
       "<div>\n",
       "<table border=\"1\" class=\"dataframe\">\n",
       "  <thead>\n",
       "    <tr style=\"text-align: right;\">\n",
       "      <th></th>\n",
       "      <th>Id</th>\n",
       "      <th>CreationDate</th>\n",
       "      <th>ClosedDate</th>\n",
       "      <th>DeletionDate</th>\n",
       "      <th>Score</th>\n",
       "      <th>OwnerUserId</th>\n",
       "      <th>AnswerCount</th>\n",
       "      <th>closing_time</th>\n",
       "      <th>days</th>\n",
       "      <th>seconds</th>\n",
       "    </tr>\n",
       "  </thead>\n",
       "  <tbody>\n",
       "    <tr>\n",
       "      <th>3</th>\n",
       "      <td>8</td>\n",
       "      <td>2008-07-31 23:33:19</td>\n",
       "      <td>2013-06-03 04:00:25</td>\n",
       "      <td>2015-02-11 08:26:40</td>\n",
       "      <td>42</td>\n",
       "      <td>NaN</td>\n",
       "      <td>8.0</td>\n",
       "      <td>1767 days 04:27:06</td>\n",
       "      <td>1767.0</td>\n",
       "      <td>16026.0</td>\n",
       "    </tr>\n",
       "    <tr>\n",
       "      <th>11</th>\n",
       "      <td>23</td>\n",
       "      <td>2008-08-01 12:09:41</td>\n",
       "      <td>2012-05-18 11:12:42</td>\n",
       "      <td>2012-12-13 18:04:53</td>\n",
       "      <td>25</td>\n",
       "      <td>NaN</td>\n",
       "      <td>8.0</td>\n",
       "      <td>1385 days 23:03:01</td>\n",
       "      <td>1385.0</td>\n",
       "      <td>82981.0</td>\n",
       "    </tr>\n",
       "    <tr>\n",
       "      <th>27</th>\n",
       "      <td>85</td>\n",
       "      <td>2008-08-01 14:19:52</td>\n",
       "      <td>2015-10-22 13:43:51</td>\n",
       "      <td>NaT</td>\n",
       "      <td>83</td>\n",
       "      <td>59.0</td>\n",
       "      <td>12.0</td>\n",
       "      <td>2637 days 23:23:59</td>\n",
       "      <td>2637.0</td>\n",
       "      <td>84239.0</td>\n",
       "    </tr>\n",
       "    <tr>\n",
       "      <th>29</th>\n",
       "      <td>90</td>\n",
       "      <td>2008-08-01 14:41:24</td>\n",
       "      <td>2012-12-26 03:45:49</td>\n",
       "      <td>NaT</td>\n",
       "      <td>146</td>\n",
       "      <td>58.0</td>\n",
       "      <td>3.0</td>\n",
       "      <td>1607 days 13:04:25</td>\n",
       "      <td>1607.0</td>\n",
       "      <td>47065.0</td>\n",
       "    </tr>\n",
       "    <tr>\n",
       "      <th>31</th>\n",
       "      <td>108</td>\n",
       "      <td>2008-08-01 15:22:29</td>\n",
       "      <td>2012-08-15 19:45:13</td>\n",
       "      <td>NaT</td>\n",
       "      <td>34</td>\n",
       "      <td>72.0</td>\n",
       "      <td>8.0</td>\n",
       "      <td>1475 days 04:22:44</td>\n",
       "      <td>1475.0</td>\n",
       "      <td>15764.0</td>\n",
       "    </tr>\n",
       "  </tbody>\n",
       "</table>\n",
       "</div>"
      ],
      "text/plain": [
       "     Id        CreationDate          ClosedDate        DeletionDate  Score  \\\n",
       "3     8 2008-07-31 23:33:19 2013-06-03 04:00:25 2015-02-11 08:26:40     42   \n",
       "11   23 2008-08-01 12:09:41 2012-05-18 11:12:42 2012-12-13 18:04:53     25   \n",
       "27   85 2008-08-01 14:19:52 2015-10-22 13:43:51                 NaT     83   \n",
       "29   90 2008-08-01 14:41:24 2012-12-26 03:45:49                 NaT    146   \n",
       "31  108 2008-08-01 15:22:29 2012-08-15 19:45:13                 NaT     34   \n",
       "\n",
       "    OwnerUserId  AnswerCount       closing_time    days  seconds  \n",
       "3           NaN          8.0 1767 days 04:27:06  1767.0  16026.0  \n",
       "11          NaN          8.0 1385 days 23:03:01  1385.0  82981.0  \n",
       "27         59.0         12.0 2637 days 23:23:59  2637.0  84239.0  \n",
       "29         58.0          3.0 1607 days 13:04:25  1607.0  47065.0  \n",
       "31         72.0          8.0 1475 days 04:22:44  1475.0  15764.0  "
      ]
     },
     "execution_count": 79,
     "metadata": {},
     "output_type": "execute_result"
    }
   ],
   "source": [
    "questions_pd['closing_time'] = (questions_pd.ClosedDate - questions_pd.CreationDate)\n",
    "questions_pd['days'] = questions_pd['closing_time'].apply(lambda x: float(x.days))\n",
    "questions_pd['seconds'] = questions_pd['closing_time'].apply(lambda x: float(x.seconds))\n",
    "\n",
    "questions_pd.head()\n"
   ]
  },
  {
   "cell_type": "code",
   "execution_count": 80,
   "metadata": {
    "collapsed": false
   },
   "outputs": [
    {
     "data": {
      "text/plain": [
       "3098.0"
      ]
     },
     "execution_count": 80,
     "metadata": {},
     "output_type": "execute_result"
    }
   ],
   "source": [
    "max(questions_pd.days)"
   ]
  },
  {
   "cell_type": "code",
   "execution_count": 81,
   "metadata": {
    "collapsed": false
   },
   "outputs": [
    {
     "data": {
      "text/html": [
       "<div>\n",
       "<table border=\"1\" class=\"dataframe\">\n",
       "  <thead>\n",
       "    <tr style=\"text-align: right;\">\n",
       "      <th></th>\n",
       "      <th>Id</th>\n",
       "      <th>CreationDate</th>\n",
       "      <th>ClosedDate</th>\n",
       "      <th>DeletionDate</th>\n",
       "      <th>Score</th>\n",
       "      <th>OwnerUserId</th>\n",
       "      <th>AnswerCount</th>\n",
       "      <th>closing_time</th>\n",
       "      <th>days</th>\n",
       "      <th>seconds</th>\n",
       "      <th>Tag</th>\n",
       "    </tr>\n",
       "  </thead>\n",
       "  <tbody>\n",
       "    <tr>\n",
       "      <th>0</th>\n",
       "      <td>8</td>\n",
       "      <td>2008-07-31 23:33:19</td>\n",
       "      <td>2013-06-03 04:00:25</td>\n",
       "      <td>2015-02-11 08:26:40</td>\n",
       "      <td>42</td>\n",
       "      <td>NaN</td>\n",
       "      <td>8.0</td>\n",
       "      <td>1767 days 04:27:06</td>\n",
       "      <td>1767.0</td>\n",
       "      <td>16026.0</td>\n",
       "      <td>c#</td>\n",
       "    </tr>\n",
       "    <tr>\n",
       "      <th>1</th>\n",
       "      <td>8</td>\n",
       "      <td>2008-07-31 23:33:19</td>\n",
       "      <td>2013-06-03 04:00:25</td>\n",
       "      <td>2015-02-11 08:26:40</td>\n",
       "      <td>42</td>\n",
       "      <td>NaN</td>\n",
       "      <td>8.0</td>\n",
       "      <td>1767 days 04:27:06</td>\n",
       "      <td>1767.0</td>\n",
       "      <td>16026.0</td>\n",
       "      <td>code-generation</td>\n",
       "    </tr>\n",
       "    <tr>\n",
       "      <th>2</th>\n",
       "      <td>8</td>\n",
       "      <td>2008-07-31 23:33:19</td>\n",
       "      <td>2013-06-03 04:00:25</td>\n",
       "      <td>2015-02-11 08:26:40</td>\n",
       "      <td>42</td>\n",
       "      <td>NaN</td>\n",
       "      <td>8.0</td>\n",
       "      <td>1767 days 04:27:06</td>\n",
       "      <td>1767.0</td>\n",
       "      <td>16026.0</td>\n",
       "      <td>j#</td>\n",
       "    </tr>\n",
       "    <tr>\n",
       "      <th>3</th>\n",
       "      <td>8</td>\n",
       "      <td>2008-07-31 23:33:19</td>\n",
       "      <td>2013-06-03 04:00:25</td>\n",
       "      <td>2015-02-11 08:26:40</td>\n",
       "      <td>42</td>\n",
       "      <td>NaN</td>\n",
       "      <td>8.0</td>\n",
       "      <td>1767 days 04:27:06</td>\n",
       "      <td>1767.0</td>\n",
       "      <td>16026.0</td>\n",
       "      <td>visualj#</td>\n",
       "    </tr>\n",
       "    <tr>\n",
       "      <th>4</th>\n",
       "      <td>23</td>\n",
       "      <td>2008-08-01 12:09:41</td>\n",
       "      <td>2012-05-18 11:12:42</td>\n",
       "      <td>2012-12-13 18:04:53</td>\n",
       "      <td>25</td>\n",
       "      <td>NaN</td>\n",
       "      <td>8.0</td>\n",
       "      <td>1385 days 23:03:01</td>\n",
       "      <td>1385.0</td>\n",
       "      <td>82981.0</td>\n",
       "      <td>php</td>\n",
       "    </tr>\n",
       "  </tbody>\n",
       "</table>\n",
       "</div>"
      ],
      "text/plain": [
       "   Id        CreationDate          ClosedDate        DeletionDate  Score  \\\n",
       "0   8 2008-07-31 23:33:19 2013-06-03 04:00:25 2015-02-11 08:26:40     42   \n",
       "1   8 2008-07-31 23:33:19 2013-06-03 04:00:25 2015-02-11 08:26:40     42   \n",
       "2   8 2008-07-31 23:33:19 2013-06-03 04:00:25 2015-02-11 08:26:40     42   \n",
       "3   8 2008-07-31 23:33:19 2013-06-03 04:00:25 2015-02-11 08:26:40     42   \n",
       "4  23 2008-08-01 12:09:41 2012-05-18 11:12:42 2012-12-13 18:04:53     25   \n",
       "\n",
       "   OwnerUserId  AnswerCount       closing_time    days  seconds  \\\n",
       "0          NaN          8.0 1767 days 04:27:06  1767.0  16026.0   \n",
       "1          NaN          8.0 1767 days 04:27:06  1767.0  16026.0   \n",
       "2          NaN          8.0 1767 days 04:27:06  1767.0  16026.0   \n",
       "3          NaN          8.0 1767 days 04:27:06  1767.0  16026.0   \n",
       "4          NaN          8.0 1385 days 23:03:01  1385.0  82981.0   \n",
       "\n",
       "               Tag  \n",
       "0               c#  \n",
       "1  code-generation  \n",
       "2               j#  \n",
       "3         visualj#  \n",
       "4              php  "
      ]
     },
     "execution_count": 81,
     "metadata": {},
     "output_type": "execute_result"
    }
   ],
   "source": [
    "joined_df = questions_pd.merge(tags_pd, on=\"Id\")\n",
    "joined_df.head()"
   ]
  },
  {
   "cell_type": "code",
   "execution_count": 85,
   "metadata": {
    "collapsed": false
   },
   "outputs": [],
   "source": [
    "max_values = joined_df.groupby('Tag').days.aggregate(np.median)"
   ]
  },
  {
   "cell_type": "code",
   "execution_count": 86,
   "metadata": {
    "collapsed": false
   },
   "outputs": [],
   "source": [
    "max_values.sort_values(inplace=True)"
   ]
  },
  {
   "cell_type": "code",
   "execution_count": 105,
   "metadata": {
    "collapsed": false
   },
   "outputs": [
    {
     "data": {
      "image/png": "[encoded data removed]",
      "text/plain": [
       "<matplotlib.figure.Figure at 0x3289daf60>"
      ]
     },
     "metadata": {},
     "output_type": "display_data"
    }
   ],
   "source": [
    "max_values.tail(20).plot.barh()\n",
    "plt.title(\"Top 20 tags by median days to close\");"
   ]
  },
  {
   "cell_type": "code",
   "execution_count": 106,
   "metadata": {
    "collapsed": false
   },
   "outputs": [
    {
     "data": {
      "text/plain": [
       "Tag\n",
       "bitfield                    10.0\n",
       "army                        12.0\n",
       "sucking                     15.0\n",
       "hairy                       15.0\n",
       "fuckuz                      16.0\n",
       "rhsttrh                     16.0\n",
       "suck                        19.0\n",
       "dsdfdsfsd                   19.0\n",
       "that                        19.0\n",
       "dicksucka                   19.0\n",
       "cock                        19.0\n",
       "cocks                       22.5\n",
       "jquery-trigger              24.0\n",
       "hjgg                        28.0\n",
       "estimates                   28.0\n",
       "slut                        30.0\n",
       "filesystemdalemar.myopen    31.0\n",
       "eee                         31.0\n",
       "rtaudio                     31.0\n",
       "sql-escaping                32.0\n",
       "databse                     33.0\n",
       "charge                      34.0\n",
       "hourly                      34.0\n",
       "mcard                       35.0\n",
       "pgmagick                    35.0\n",
       "mortgage-rates              35.0\n",
       "zone-files                  35.0\n",
       "pvs-studio                  36.0\n",
       "question-is-spam            36.0\n",
       "npm-liveserver              38.0\n",
       "                            ... \n",
       "dataviewgrid                60.0\n",
       "httpstackoverflow.com       60.0\n",
       "bsdtar                      60.0\n",
       "iran                        61.0\n",
       "popularculture              61.0\n",
       "dontclosethis               62.0\n",
       "junktest                    62.0\n",
       "knopflerfish                62.0\n",
       "esb-toolkit-2.0             62.0\n",
       "cegui                       62.0\n",
       "illegalaccessexception      63.0\n",
       "libfreenect2                64.0\n",
       "fromkeys                    64.0\n",
       "asdfasdf                    64.0\n",
       "dotras                      64.0\n",
       "touchswipe                  65.0\n",
       "material-theme              65.0\n",
       "jdk9                        66.0\n",
       "selectcommand               66.0\n",
       "application-monitoring      68.0\n",
       "needs-more-info             70.0\n",
       "insane                      70.0\n",
       "jsonpickle                  70.0\n",
       "zinc-4                      70.0\n",
       "horse                       71.0\n",
       "minor                       71.0\n",
       "gay                         71.0\n",
       "ask                         72.0\n",
       "the-office                  73.0\n",
       "so-wars                     73.0\n",
       "Name: seconds, dtype: float64"
      ]
     },
     "execution_count": 106,
     "metadata": {},
     "output_type": "execute_result"
    }
   ],
   "source": [
    "min_values = joined_df.groupby('Tag').seconds.aggregate(np.median)\n",
    "min_values.sort_values(inplace=True)\n",
    "min_values.head(100)\n"
   ]
  },
  {
   "cell_type": "code",
   "execution_count": null,
   "metadata": {
    "collapsed": true
   },
   "outputs": [],
   "source": []
  }
 ],
 "metadata": {
  "anaconda-cloud": {},
  "kernelspec": {
   "display_name": "Python [conda root]",
   "language": "python",
   "name": "conda-root-py"
  },
  "language_info": {
   "codemirror_mode": {
    "name": "ipython",
    "version": 3
   },
   "file_extension": ".py",
   "mimetype": "text/x-python",
   "name": "python",
   "nbconvert_exporter": "python",
   "pygments_lexer": "ipython3",
   "version": "3.5.2"
  }
 },
 "nbformat": 4,
 "nbformat_minor": 1
}
